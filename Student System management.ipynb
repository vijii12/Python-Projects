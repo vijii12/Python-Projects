{
 "cells": [
  {
   "cell_type": "code",
   "execution_count": 42,
   "id": "85ba0f53",
   "metadata": {},
   "outputs": [
    {
     "name": "stdout",
     "output_type": "stream",
     "text": [
      "\n",
      "         1 for Add Student\n",
      "         2 for Remove Student\n",
      "         3 for Update Student\n",
      "         4 for Display Student Details\n",
      "         5 for Search\n",
      "         6 for Exit\n",
      "Enter your Option 1 to 6: 1\n",
      "How many Students details do you want to add: 3\n",
      "Enter Student namevg\n",
      "Enter Student Id2\n",
      "Enter Student GPA99\n",
      "Enter Student nametom\n",
      "Enter Student Id1\n",
      "Enter Student GPA90\n",
      "Enter Student namenivi\n",
      "Enter Student Id3\n",
      "Enter Student GPA78\n",
      "Student Added Successfully\n",
      "Do you want to continue? yes/no :yes\n",
      "Enter your Option 1 to 6: 2\n",
      "Enter Student Name to Remove: nivi\n",
      "Student Detail Remove Successfully\n",
      "Do you want to continue? yes/no :no\n"
     ]
    }
   ],
   "source": [
    "Student={}\n",
    "class Student_management:\n",
    "    def add(self):\n",
    "        n=int(input('How many Students details do you want to add: ' ))\n",
    "        for i in range(n):\n",
    "            stu_name=input('Enter Student name')\n",
    "            stu_id=input('Enter Student Id')\n",
    "            stu_GPA=input('Enter Student GPA')\n",
    "            stu_add={'Name':stu_name,'ID':stu_id,'GPA':stu_GPA}\n",
    "            Student[i]=stu_add\n",
    "        print('Student Added Successfully')\n",
    "    def Remove(self):\n",
    "        name=input('Enter Student Name to Remove: ')\n",
    "        del_keys=[]\n",
    "        for i in Student:\n",
    "            if Student[i]['Name']==name:\n",
    "                del_keys.append(i)\n",
    "        for i in del_keys:\n",
    "            del(Student[i])\n",
    "        print('Student Detail Remove Successfully')\n",
    "    def Update(self):\n",
    "        name=input('Which Student detail you want to update: ')\n",
    "        choice=input('Which one do you want to update Name/ID/GPA: ')\n",
    "        for i in Student:\n",
    "            if Student[i][\"Name\"]==name:\n",
    "                update=input('update what you want Name/Id/GPA: ')\n",
    "                Student[i][choice]=update\n",
    "        print('Student Detail successfully Updated')\n",
    "    def Display(self):\n",
    "        name=input('Enter Student Name to display: ')\n",
    "        for i in Student:\n",
    "            if Student[i]['Name']==name:\n",
    "                print('Student Details:')\n",
    "                print(Student[i])\n",
    "    \n",
    "    def Search(self):\n",
    "        name=input('Enter Student Name to search: ')\n",
    "        for i in Student:\n",
    "            if Student[i]['Name']==name:\n",
    "                print('Student found in records')\n",
    "                print(Student[i])\n",
    "    def exit(self):\n",
    "        print('done')\n",
    "stuma=Student_management()\n",
    "print('''\n",
    "         1 for Add Student\n",
    "         2 for Remove Student\n",
    "         3 for Update Student\n",
    "         4 for Display Student Details\n",
    "         5 for Search\n",
    "         6 for Exit''')\n",
    "while True:\n",
    "    option=int(input('Enter your Option 1 to 6: '))\n",
    "    if option==1:\n",
    "        stuma.add()\n",
    "    elif option==2:\n",
    "        stuma.Remove()\n",
    "    elif option==3:\n",
    "        stuma.Update()\n",
    "    elif option==4:\n",
    "        stuma.Display()\n",
    "    elif option==5:\n",
    "        stuma.Search()\n",
    "    elif option==6:\n",
    "        stuma.exit()\n",
    "    next_=input('Do you want to continue? yes/no :')\n",
    "    if next_=='no':\n",
    "        break\n",
    "    \n",
    "        \n",
    "                \n",
    "        "
   ]
  },
  {
   "cell_type": "code",
   "execution_count": null,
   "id": "16f14d30",
   "metadata": {},
   "outputs": [],
   "source": [
    "class Student:\n",
    "    def __init__(self, name, age, grade):\n",
    "        self.name = name\n",
    "        self.age = age\n",
    "        self.grade = grade\n",
    "\n",
    "class StudentManagementSystem:\n",
    "    def __init__(self):\n",
    "        self.students = []\n",
    "\n",
    "    def add_student(self, student):\n",
    "        self.students.append(student)\n",
    "        print(f\"{student.name} added to the system.\")\n",
    "\n",
    "    def display_students(self):\n",
    "        if not self.students:\n",
    "            print(\"No students in the system.\")\n",
    "        else:\n",
    "            print(\"List of students:\")\n",
    "            for student in self.students:\n",
    "                print(f\"Name: {student.name}, Age: {student.age}, Grade: {student.grade}\")\n",
    "\n",
    "    def search_student(self, name):\n",
    "        for student in self.students:\n",
    "            if student.name == name:\n",
    "                print(f\"Student found - Name: {student.name}, Age: {student.age}, Grade: {student.grade}\")\n",
    "                return\n",
    "        print(f\"No student with the name '{name}' found.\")\n",
    "\n",
    "    def remove_student(self, name):\n",
    "        for student in self.students:\n",
    "            if student.name == name:\n",
    "                self.students.remove(student)\n",
    "                print(f\"{student.name} removed from the system.\")\n",
    "                return\n",
    "        print(f\"No student with the name '{name}' found.\")\n",
    "\n",
    "# Example usage\n",
    "if __name__ == \"__main__\":\n",
    "    system = StudentManagementSystem()\n",
    "\n",
    "    # Add students\n",
    "    student1 = Student(\"Alice\", 18, \"A\")\n",
    "    student2 = Student(\"Bob\", 17, \"B\")\n",
    "    system.add_student(student1)\n",
    "    system.add_student(student2)\n",
    "\n",
    "    # Display students\n",
    "    system.display_students()\n",
    "\n",
    "    # Search for a student\n",
    "    system.search_student(\"Alice\")\n",
    "    system.search_student(\"Eve\")\n",
    "\n",
    "    # Remove a student\n",
    "    system.remove_student(\"Bob\")\n",
    "\n",
    "    # Display students after removal\n",
    "    system.display_students()\n"
   ]
  },
  {
   "cell_type": "code",
   "execution_count": 38,
   "id": "f5aa1b5c",
   "metadata": {},
   "outputs": [
    {
     "name": "stdout",
     "output_type": "stream",
     "text": [
      "How many Students details do you want to add3\n",
      "Enter Student namevg\n",
      "Enter Student Id1\n",
      "Enter Student GPA99\n",
      "Enter Student namenivi\n",
      "Enter Student Id2\n",
      "Enter Student GPA99\n",
      "Enter Student nametom\n",
      "Enter Student Id3\n",
      "Enter Student GPA99\n"
     ]
    }
   ],
   "source": [
    "Student={}\n",
    "def add():\n",
    "        n=int(input('How many Students details do you want to add' ))\n",
    "        for i in range(n):\n",
    "            stu_name=input('Enter Student name')\n",
    "            stu_id=input('Enter Student Id')\n",
    "            stu_GPA=input('Enter Student GPA')\n",
    "            stu_add={'Name':stu_name,'ID':stu_id,'GPA':stu_GPA}\n",
    "            Student[i]=stu_add\n",
    "#def Remove():\n",
    "        #name=input('Enter Student Name to Remove: ')\n",
    "        #for i in Student:\n",
    "            #if Student[i]['Name']==name:\n",
    "                #Student.pop(i)\n",
    "            #else:\n",
    "                #continue\n",
    "        #print('Student Detail Remove Successfully')\n",
    "add()\n",
    "#Remove()\n"
   ]
  },
  {
   "cell_type": "code",
   "execution_count": 39,
   "id": "2ac1d722",
   "metadata": {},
   "outputs": [
    {
     "name": "stdout",
     "output_type": "stream",
     "text": [
      "[1]\n"
     ]
    }
   ],
   "source": [
    "name='nivi'\n",
    "l=[]\n",
    "for i in Student:\n",
    "    if Student[i]['Name']==name:\n",
    "        l.append(i)\n",
    "print(l)\n",
    "\n",
    "    \n",
    "        \n",
    "    "
   ]
  },
  {
   "cell_type": "code",
   "execution_count": 40,
   "id": "95027664",
   "metadata": {},
   "outputs": [],
   "source": [
    "for i in l:\n",
    "    del(Student[i])"
   ]
  },
  {
   "cell_type": "code",
   "execution_count": 36,
   "id": "f2035b83",
   "metadata": {},
   "outputs": [
    {
     "name": "stdout",
     "output_type": "stream",
     "text": [
      "<class 'list'>\n"
     ]
    }
   ],
   "source": [
    "a=['bow']\n",
    "print(type(a))"
   ]
  },
  {
   "cell_type": "code",
   "execution_count": 43,
   "id": "92bb3524",
   "metadata": {},
   "outputs": [
    {
     "name": "stdout",
     "output_type": "stream",
     "text": [
      "{0: {'Name': 'vg', 'ID': '2', 'GPA': '99'}, 1: {'Name': 'tom', 'ID': '1', 'GPA': '90'}}\n"
     ]
    }
   ],
   "source": [
    "print(Student)"
   ]
  },
  {
   "cell_type": "code",
   "execution_count": 57,
   "id": "42d43593",
   "metadata": {},
   "outputs": [
    {
     "name": "stdout",
     "output_type": "stream",
     "text": [
      "emp_1 work less than 8 hour\n"
     ]
    }
   ],
   "source": [
    "from datetime import datetime\n",
    "data1=[{'emp_id':1,'date':'22-10-2022','in_time':'09:30'},{'emp_id':2,'date':'22-10-2022','in_time':'09:30'}]\n",
    "data2=[{'emp_id':1,'date':'22-10-2022','out_time':'15:30'},{'emp_id':2,'date':'22-10-2022','out_time':'18:30'}]\n",
    "in_time=[]\n",
    "out_time=[]\n",
    "for i in data1:\n",
    "    for j in i:\n",
    "        if j=='in_time':\n",
    "            in_time.append(datetime.strptime(i[j],'%H:%M'))\n",
    "            #print(i[j])\n",
    "            #emp_1.append(i[j])\n",
    "for i in data2:\n",
    "    for j in i:\n",
    "        if j=='out_time':\n",
    "            out_time.append(datetime.strptime(i[j],'%H:%M'))\n",
    "            #print(i[j])\n",
    "#print(in_time) \n",
    "#print(out_time)\n",
    "emp_1_wrk=(out_time[0]-in_time[0]).total_seconds()/3600\n",
    "emp_2_wrk=(out_time[1]-in_time[1]).total_seconds()/3600\n",
    "#print(emp_1_wrk)\n",
    "#print(emp_2_wrk)\n",
    "\n",
    "\n",
    "if emp_1_wrk <8:\n",
    "    print('emp_1 work less than 8 hour')\n",
    "elif emp_2_wrk<8:\n",
    "    print('emp_1 work less than 8 hour')\n",
    "else:\n",
    "    print('both are worked more than 8 hour')\n",
    "\n"
   ]
  },
  {
   "cell_type": "code",
   "execution_count": 76,
   "id": "fb44819f",
   "metadata": {},
   "outputs": [
    {
     "name": "stdout",
     "output_type": "stream",
     "text": [
      "321ik$nev.\n"
     ]
    }
   ],
   "source": [
    "input_string='venki$321.'\n",
    "#output_string='321ik$nev'\n",
    "spl_char=[i for i in input_string if not i.isalnum()]\n",
    "num=[i for i in input_string if i.isdigit()]\n",
    "alp=[i for i in input_string if i.isalpha()]\n",
    "num.sort(reverse=True)\n",
    "alp.reverse()\n",
    "l=[]\n",
    "for i in num:\n",
    "    l.append(i)\n",
    "for i in alp:\n",
    "    l.append(i)\n",
    "for i in range(len(input_string)):\n",
    "    if input_string[i] in spl_char:\n",
    "        l.insert(i,input_string[i])\n",
    "\n",
    "a=''.join(l)\n",
    "print(a)\n",
    "    "
   ]
  },
  {
   "cell_type": "code",
   "execution_count": 81,
   "id": "96442fb1",
   "metadata": {},
   "outputs": [
    {
     "name": "stdout",
     "output_type": "stream",
     "text": [
      "[9, 6, 4, 3, 2, 1, 0]\n"
     ]
    }
   ],
   "source": [
    "#Descending order of give list\n",
    "input_list=[3,4,6,2,1,9,0]\n",
    "for i in range(len(input_list)):\n",
    "    for j in range(i+1,len(input_list)):\n",
    "        if input_list[i]<=input_list[j]:\n",
    "            input_list[j],input_list[i]=input_list[i],input_list[j]\n",
    "print(input_list)\n",
    "    "
   ]
  },
  {
   "cell_type": "code",
   "execution_count": 89,
   "id": "19b8cad4",
   "metadata": {},
   "outputs": [
    {
     "name": "stdout",
     "output_type": "stream",
     "text": [
      "{'a': 1, 'c': 7, 'b': 10}\n"
     ]
    }
   ],
   "source": [
    "#sort the list of dict values\n",
    "dict_1={'a':1,'b':10,'c':7}\n",
    "out=dict(sorted(dict_1.items(),key=lambda items:items[1]))\n",
    "print(out)"
   ]
  },
  {
   "cell_type": "code",
   "execution_count": 7,
   "id": "c1e5524b",
   "metadata": {},
   "outputs": [
    {
     "name": "stdout",
     "output_type": "stream",
     "text": [
      "enter Email: viji@.com\n",
      "Invalid\n"
     ]
    }
   ],
   "source": [
    "import re\n",
    "gmail=input('enter Email: ')\n",
    "x=re.match('^[\\w\\.-]+@[\\w\\.-]+\\.+\\w+$',gmail)\n",
    "if x is not None:\n",
    "    print('valid')\n",
    "else:\n",
    "    print('Invalid')\n"
   ]
  },
  {
   "cell_type": "code",
   "execution_count": 1,
   "id": "3467b914",
   "metadata": {},
   "outputs": [
    {
     "name": "stdout",
     "output_type": "stream",
     "text": [
      "[55, 22, 33, 50, 88, 99]\n"
     ]
    }
   ],
   "source": [
    "input_list=[55,1,22,33,5,50,88,99]\n",
    "a=list(filter(lambda x:x>5,input_list))\n",
    "print(a)"
   ]
  },
  {
   "cell_type": "code",
   "execution_count": 8,
   "id": "4f3ab563",
   "metadata": {},
   "outputs": [
    {
     "name": "stdout",
     "output_type": "stream",
     "text": [
      "{'numbers': {1: 56, 3: 7}, 'letters': {4: 'B'}}\n"
     ]
    }
   ],
   "source": [
    "number={}\n",
    "letter={}\n",
    "comb={}\n",
    "number[1]=56\n",
    "number[3]=7\n",
    "letter[4]='B'\n",
    "comb['numbers']=number\n",
    "comb['letters']=letter\n",
    "print(comb)"
   ]
  },
  {
   "cell_type": "code",
   "execution_count": 11,
   "id": "f1146526",
   "metadata": {},
   "outputs": [
    {
     "name": "stdout",
     "output_type": "stream",
     "text": [
      "{1: 1, 3: 2, 4: 1, 2: 3}\n"
     ]
    }
   ],
   "source": [
    "#count\n",
    "input_list=[1,3,4,2,3,2,2]\n",
    "count={}\n",
    "c=1\n",
    "for i in input_list:\n",
    "    if i not in count:\n",
    "        count[i]=c\n",
    "    else:\n",
    "        count[i]+=1\n",
    "print(count)"
   ]
  },
  {
   "cell_type": "code",
   "execution_count": 17,
   "id": "2de1847a",
   "metadata": {},
   "outputs": [
    {
     "name": "stdout",
     "output_type": "stream",
     "text": [
      "['k1', 'k2', 'k3', 'k4', 'k5']\n",
      "['v1', 'v2', 'v3', 'v4', 'v5']\n",
      "[['k1', 'k2', 'k3', 'k4', 'k5'], ['v1', 'v2', 'v3', 'v4', 'v5']]\n"
     ]
    }
   ],
   "source": [
    "#convert input dict to list of list value\n",
    "input_dict={'input_data':{'k1':'v1','k2':'v2','k3':'v3','k4':'v4','k5':'v5'}}\n",
    "#output=[[k1,k2,k2,k4,k5],[v1,v2,v3,v4,v5]]\n",
    "output_key=[]\n",
    "output_val=[]\n",
    "for i in input_dict.values():\n",
    "    for k,v in i.items():\n",
    "        output_key.append(k)\n",
    "        output_val.append(v)\n",
    "#print(output_key)\n",
    "#print(output_val)\n",
    "output=[]\n",
    "output.append(output_key)\n",
    "output.append(output_val)\n",
    "#output_key.extend(output_val)\n",
    "print(output)\n",
    "        "
   ]
  },
  {
   "cell_type": "code",
   "execution_count": null,
   "id": "e9c34566",
   "metadata": {},
   "outputs": [],
   "source": [
    "#read excel file\n",
    "import pandas as pd\n",
    "file=pd.read_xlsx('file path.xlsx')\n"
   ]
  },
  {
   "cell_type": "code",
   "execution_count": 32,
   "id": "f50f7cb9",
   "metadata": {},
   "outputs": [
    {
     "name": "stdout",
     "output_type": "stream",
     "text": [
      "[(5, 7), (3, 9)]\n"
     ]
    }
   ],
   "source": [
    "#find all pairs in the list with given sum k\n",
    "lst=[1,5,3,7,9]\n",
    "k=12\n",
    "#output=[(5,7),(3,9)]\n",
    "output=[]\n",
    "for i in range(len(lst)):\n",
    "    for j in range(i+1,len(lst)):\n",
    "        if lst[i]+lst[j]==k:\n",
    "            #print((lst[i],lst[j]))\n",
    "            output.append((lst[i],lst[j]))\n",
    "print(output)\n",
    "        "
   ]
  },
  {
   "cell_type": "code",
   "execution_count": 34,
   "id": "e2f1a9ba",
   "metadata": {},
   "outputs": [
    {
     "name": "stdout",
     "output_type": "stream",
     "text": [
      "(1, 5, 3, 9, 7) (1, 5, 7, 3, 9) (1, 5, 7, 9, 3) (1, 5, 9, 3, 7) (1, 5, 9, 7, 3) (1, 3, 5, 7, 9) (1, 3, 5, 9, 7) (1, 3, 7, 5, 9) (1, 3, 7, 9, 5) (1, 3, 9, 5, 7) (1, 3, 9, 7, 5) (1, 7, 5, 3, 9) (1, 7, 5, 9, 3) (1, 7, 3, 5, 9) (1, 7, 3, 9, 5) (1, 7, 9, 5, 3) (1, 7, 9, 3, 5) (1, 9, 5, 3, 7) (1, 9, 5, 7, 3) (1, 9, 3, 5, 7) (1, 9, 3, 7, 5) (1, 9, 7, 5, 3) (1, 9, 7, 3, 5) (5, 1, 3, 7, 9) (5, 1, 3, 9, 7) (5, 1, 7, 3, 9) (5, 1, 7, 9, 3) (5, 1, 9, 3, 7) (5, 1, 9, 7, 3) (5, 3, 1, 7, 9) (5, 3, 1, 9, 7) (5, 3, 7, 1, 9) (5, 3, 7, 9, 1) (5, 3, 9, 1, 7) (5, 3, 9, 7, 1) (5, 7, 1, 3, 9) (5, 7, 1, 9, 3) (5, 7, 3, 1, 9) (5, 7, 3, 9, 1) (5, 7, 9, 1, 3) (5, 7, 9, 3, 1) (5, 9, 1, 3, 7) (5, 9, 1, 7, 3) (5, 9, 3, 1, 7) (5, 9, 3, 7, 1) (5, 9, 7, 1, 3) (5, 9, 7, 3, 1) (3, 1, 5, 7, 9) (3, 1, 5, 9, 7) (3, 1, 7, 5, 9) (3, 1, 7, 9, 5) (3, 1, 9, 5, 7) (3, 1, 9, 7, 5) (3, 5, 1, 7, 9) (3, 5, 1, 9, 7) (3, 5, 7, 1, 9) (3, 5, 7, 9, 1) (3, 5, 9, 1, 7) (3, 5, 9, 7, 1) (3, 7, 1, 5, 9) (3, 7, 1, 9, 5) (3, 7, 5, 1, 9) (3, 7, 5, 9, 1) (3, 7, 9, 1, 5) (3, 7, 9, 5, 1) (3, 9, 1, 5, 7) (3, 9, 1, 7, 5) (3, 9, 5, 1, 7) (3, 9, 5, 7, 1) (3, 9, 7, 1, 5) (3, 9, 7, 5, 1) (7, 1, 5, 3, 9) (7, 1, 5, 9, 3) (7, 1, 3, 5, 9) (7, 1, 3, 9, 5) (7, 1, 9, 5, 3) (7, 1, 9, 3, 5) (7, 5, 1, 3, 9) (7, 5, 1, 9, 3) (7, 5, 3, 1, 9) (7, 5, 3, 9, 1) (7, 5, 9, 1, 3) (7, 5, 9, 3, 1) (7, 3, 1, 5, 9) (7, 3, 1, 9, 5) (7, 3, 5, 1, 9) (7, 3, 5, 9, 1) (7, 3, 9, 1, 5) (7, 3, 9, 5, 1) (7, 9, 1, 5, 3) (7, 9, 1, 3, 5) (7, 9, 5, 1, 3) (7, 9, 5, 3, 1) (7, 9, 3, 1, 5) (7, 9, 3, 5, 1) (9, 1, 5, 3, 7) (9, 1, 5, 7, 3) (9, 1, 3, 5, 7) (9, 1, 3, 7, 5) (9, 1, 7, 5, 3) (9, 1, 7, 3, 5) (9, 5, 1, 3, 7) (9, 5, 1, 7, 3) (9, 5, 3, 1, 7) (9, 5, 3, 7, 1) (9, 5, 7, 1, 3) (9, 5, 7, 3, 1) (9, 3, 1, 5, 7) (9, 3, 1, 7, 5) (9, 3, 5, 1, 7) (9, 3, 5, 7, 1) (9, 3, 7, 1, 5) (9, 3, 7, 5, 1) (9, 7, 1, 5, 3) (9, 7, 1, 3, 5) (9, 7, 5, 1, 3) (9, 7, 5, 3, 1) (9, 7, 3, 1, 5) (9, 7, 3, 5, 1)\n"
     ]
    }
   ],
   "source": [
    "#given all permutation in list\n",
    "lst=[1,5,3,7,9]\n",
    "import itertools\n",
    "x=itertools.permutations(lst)\n",
    "for i in x:\n",
    "    print(*x)"
   ]
  },
  {
   "cell_type": "code",
   "execution_count": 47,
   "id": "9f46272f",
   "metadata": {},
   "outputs": [
    {
     "name": "stdout",
     "output_type": "stream",
     "text": [
      "enter passwordViji@12099\n",
      "Valid\n"
     ]
    }
   ],
   "source": [
    "password=input('enter password')\n",
    "import re\n",
    "def password_val(password):\n",
    "    if len(password)<8 and len(password)>16:\n",
    "        return 'Invalid'\n",
    "    elif  re.search('[0-9]',password) is None or  re.search('[a-z]',password) is None or re.search('[A-Z]',password) is None or  re.search('[^a-zA-Z0-9]',password) is None:\n",
    "        return 'Invalid'\n",
    "    else:\n",
    "        return 'Valid'\n",
    "print(password_val(password))\n"
   ]
  },
  {
   "cell_type": "code",
   "execution_count": 4,
   "id": "537869bb",
   "metadata": {},
   "outputs": [
    {
     "name": "stdout",
     "output_type": "stream",
     "text": [
      "[4.359, 6.091, 3.252, 9.77, 2.16, 8.88, 4.59]\n"
     ]
    }
   ],
   "source": [
    "my_floats = [4.3588, 6.0912, 3.2517, 9.77, 2.16, 8.88, 4.59]\n",
    "def rounded(a):\n",
    "    return round(a,3)\n",
    "\n",
    "print(list(map(rounded,my_floats)))"
   ]
  },
  {
   "cell_type": "code",
   "execution_count": 11,
   "id": "ce145e5d",
   "metadata": {},
   "outputs": [
    {
     "name": "stdout",
     "output_type": "stream",
     "text": [
      "['akinremi', 'temidayo']\n"
     ]
    }
   ],
   "source": [
    "my_names = [\"olumide\", \"akinremi\", \"josiah\", \"temidayo\", \"omoseun\"]\n",
    "def seven(a):\n",
    "    if len(a)>7:\n",
    "        return True\n",
    "    else:\n",
    "        return False\n",
    "print(list(filter(seven,my_names)))"
   ]
  },
  {
   "cell_type": "code",
   "execution_count": 10,
   "id": "0dbd81e1",
   "metadata": {},
   "outputs": [
    {
     "name": "stdout",
     "output_type": "stream",
     "text": [
      "['akinremi', 'temidayo']\n"
     ]
    }
   ],
   "source": [
    "my_names = [\"olumide\", \"akinremi\", \"josiah\", \"temidayo\", \"omoseun\"]\n",
    "print(list(filter(lambda word:len(word)>7,my_names)))\n"
   ]
  },
  {
   "cell_type": "code",
   "execution_count": 26,
   "id": "40d95bef",
   "metadata": {},
   "outputs": [
    {
     "name": "stdout",
     "output_type": "stream",
     "text": [
      "  *  \n",
      " * * \n",
      "* * *\n",
      "     \n",
      " * * \n",
      "     \n",
      "  *  \n"
     ]
    }
   ],
   "source": [
    "for i in range(1,6):\n",
    "    for j in range(1,6):\n",
    "        if (i==1 and j==3) or (i==2 and j%2==0)  or (i==3 and j%2!=0):\n",
    "            print('*',end='')\n",
    "        else:\n",
    "            print(' ',end='')\n",
    "    print()\n",
    "    if i==4 or i==5:\n",
    "        for k in range(1,6):\n",
    "            if (i==4 and k%2==0) or (i==5 and k==3):\n",
    "                print('*',end='')\n",
    "            else:\n",
    "                print(' ',end='')\n",
    "        print()\n",
    "\n",
    "        "
   ]
  },
  {
   "cell_type": "code",
   "execution_count": null,
   "id": "e28040ed",
   "metadata": {},
   "outputs": [],
   "source": []
  }
 ],
 "metadata": {
  "kernelspec": {
   "display_name": "Python 3 (ipykernel)",
   "language": "python",
   "name": "python3"
  },
  "language_info": {
   "codemirror_mode": {
    "name": "ipython",
    "version": 3
   },
   "file_extension": ".py",
   "mimetype": "text/x-python",
   "name": "python",
   "nbconvert_exporter": "python",
   "pygments_lexer": "ipython3",
   "version": "3.9.13"
  }
 },
 "nbformat": 4,
 "nbformat_minor": 5
}
